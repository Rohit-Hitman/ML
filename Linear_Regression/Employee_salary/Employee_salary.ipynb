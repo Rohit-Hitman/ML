{
 "cells": [
  {
   "cell_type": "code",
   "execution_count": 39,
   "metadata": {},
   "outputs": [],
   "source": [
    "import pandas as pd"
   ]
  },
  {
   "cell_type": "code",
   "execution_count": 40,
   "metadata": {},
   "outputs": [],
   "source": [
    "d1=pd.read_csv('Employee_data.csv')"
   ]
  },
  {
   "cell_type": "code",
   "execution_count": 41,
   "metadata": {},
   "outputs": [],
   "source": [
    "d=d1.copy()"
   ]
  },
  {
   "cell_type": "code",
   "execution_count": 42,
   "metadata": {},
   "outputs": [
    {
     "name": "stdout",
     "output_type": "stream",
     "text": [
      "   Unnamed: 0  id groups  age  healthy_eating  active_lifestyle  salary\n",
      "0           0   0      A   36               5                 5    2297\n",
      "1           1   1      A   55               3                 5    1134\n",
      "2           2   2      A   61               8                 1    4969\n",
      "3           3   3      O   29               3                 6     902\n",
      "4           4   4      O   34               6                 2    3574\n",
      "(1000, 7)\n"
     ]
    }
   ],
   "source": [
    "print(d.head())\n",
    "print(d.shape)"
   ]
  },
  {
   "cell_type": "code",
   "execution_count": 43,
   "metadata": {},
   "outputs": [
    {
     "name": "stdout",
     "output_type": "stream",
     "text": [
      "<bound method NDFrame.describe of      Unnamed: 0   id groups  age  healthy_eating  active_lifestyle  salary\n",
      "0             0    0      A   36               5                 5    2297\n",
      "1             1    1      A   55               3                 5    1134\n",
      "2             2    2      A   61               8                 1    4969\n",
      "3             3    3      O   29               3                 6     902\n",
      "4             4    4      O   34               6                 2    3574\n",
      "..          ...  ...    ...  ...             ...               ...     ...\n",
      "995         995  995      O   33               7                 7    2996\n",
      "996         996  996      O   21               1                 2     667\n",
      "997         997  997      O   49               9                 7    4158\n",
      "998         998  998     AB   56               6                 7    2414\n",
      "999         999  999      B   64               4                 9     788\n",
      "\n",
      "[1000 rows x 7 columns]>\n"
     ]
    }
   ],
   "source": [
    "print(d.describe)\n"
   ]
  },
  {
   "cell_type": "code",
   "execution_count": 44,
   "metadata": {},
   "outputs": [
    {
     "data": {
      "text/plain": [
       "pandas.core.frame.DataFrame"
      ]
     },
     "execution_count": 44,
     "metadata": {},
     "output_type": "execute_result"
    }
   ],
   "source": [
    "type(d)"
   ]
  },
  {
   "cell_type": "code",
   "execution_count": 45,
   "metadata": {},
   "outputs": [],
   "source": [
    "d1=pd.DataFrame(d)"
   ]
  },
  {
   "cell_type": "code",
   "execution_count": 46,
   "metadata": {},
   "outputs": [
    {
     "data": {
      "text/plain": [
       "pandas.core.frame.DataFrame"
      ]
     },
     "execution_count": 46,
     "metadata": {},
     "output_type": "execute_result"
    }
   ],
   "source": [
    "type(d1) # so read_csv directly fetch data and convert it into dataframe"
   ]
  },
  {
   "cell_type": "code",
   "execution_count": 47,
   "metadata": {},
   "outputs": [
    {
     "data": {
      "text/html": [
       "<div>\n",
       "<style scoped>\n",
       "    .dataframe tbody tr th:only-of-type {\n",
       "        vertical-align: middle;\n",
       "    }\n",
       "\n",
       "    .dataframe tbody tr th {\n",
       "        vertical-align: top;\n",
       "    }\n",
       "\n",
       "    .dataframe thead th {\n",
       "        text-align: right;\n",
       "    }\n",
       "</style>\n",
       "<table border=\"1\" class=\"dataframe\">\n",
       "  <thead>\n",
       "    <tr style=\"text-align: right;\">\n",
       "      <th></th>\n",
       "      <th>Unnamed: 0</th>\n",
       "      <th>id</th>\n",
       "      <th>groups</th>\n",
       "      <th>age</th>\n",
       "      <th>healthy_eating</th>\n",
       "      <th>active_lifestyle</th>\n",
       "      <th>salary</th>\n",
       "    </tr>\n",
       "  </thead>\n",
       "  <tbody>\n",
       "    <tr>\n",
       "      <th>0</th>\n",
       "      <td>0</td>\n",
       "      <td>0</td>\n",
       "      <td>A</td>\n",
       "      <td>36</td>\n",
       "      <td>5</td>\n",
       "      <td>5</td>\n",
       "      <td>2297</td>\n",
       "    </tr>\n",
       "    <tr>\n",
       "      <th>1</th>\n",
       "      <td>1</td>\n",
       "      <td>1</td>\n",
       "      <td>A</td>\n",
       "      <td>55</td>\n",
       "      <td>3</td>\n",
       "      <td>5</td>\n",
       "      <td>1134</td>\n",
       "    </tr>\n",
       "    <tr>\n",
       "      <th>2</th>\n",
       "      <td>2</td>\n",
       "      <td>2</td>\n",
       "      <td>A</td>\n",
       "      <td>61</td>\n",
       "      <td>8</td>\n",
       "      <td>1</td>\n",
       "      <td>4969</td>\n",
       "    </tr>\n",
       "    <tr>\n",
       "      <th>3</th>\n",
       "      <td>3</td>\n",
       "      <td>3</td>\n",
       "      <td>O</td>\n",
       "      <td>29</td>\n",
       "      <td>3</td>\n",
       "      <td>6</td>\n",
       "      <td>902</td>\n",
       "    </tr>\n",
       "    <tr>\n",
       "      <th>4</th>\n",
       "      <td>4</td>\n",
       "      <td>4</td>\n",
       "      <td>O</td>\n",
       "      <td>34</td>\n",
       "      <td>6</td>\n",
       "      <td>2</td>\n",
       "      <td>3574</td>\n",
       "    </tr>\n",
       "  </tbody>\n",
       "</table>\n",
       "</div>"
      ],
      "text/plain": [
       "   Unnamed: 0  id groups  age  healthy_eating  active_lifestyle  salary\n",
       "0           0   0      A   36               5                 5    2297\n",
       "1           1   1      A   55               3                 5    1134\n",
       "2           2   2      A   61               8                 1    4969\n",
       "3           3   3      O   29               3                 6     902\n",
       "4           4   4      O   34               6                 2    3574"
      ]
     },
     "execution_count": 47,
     "metadata": {},
     "output_type": "execute_result"
    }
   ],
   "source": [
    "d.head()"
   ]
  },
  {
   "cell_type": "code",
   "execution_count": 48,
   "metadata": {},
   "outputs": [],
   "source": [
    "y=d['salary'].copy()"
   ]
  },
  {
   "cell_type": "code",
   "execution_count": 49,
   "metadata": {},
   "outputs": [
    {
     "name": "stdout",
     "output_type": "stream",
     "text": [
      "0    2297\n",
      "1    1134\n",
      "2    4969\n",
      "3     902\n",
      "4    3574\n",
      "Name: salary, dtype: int64\n",
      "<class 'pandas.core.series.Series'>\n"
     ]
    }
   ],
   "source": [
    "print(y.head())\n",
    "print(type(y))"
   ]
  },
  {
   "cell_type": "code",
   "execution_count": 50,
   "metadata": {},
   "outputs": [],
   "source": [
    "X=d.drop(['salary'], axis=1)"
   ]
  },
  {
   "cell_type": "code",
   "execution_count": 51,
   "metadata": {},
   "outputs": [
    {
     "name": "stdout",
     "output_type": "stream",
     "text": [
      "   Unnamed: 0  id groups  age  healthy_eating  active_lifestyle\n",
      "0           0   0      A   36               5                 5\n",
      "1           1   1      A   55               3                 5\n",
      "2           2   2      A   61               8                 1\n",
      "3           3   3      O   29               3                 6\n",
      "4           4   4      O   34               6                 2\n",
      "(1000, 6)\n"
     ]
    }
   ],
   "source": [
    "print(X.head())\n",
    "print(X.shape)"
   ]
  },
  {
   "cell_type": "code",
   "execution_count": 52,
   "metadata": {},
   "outputs": [],
   "source": [
    "X=X.drop(['Unnamed: 0'], axis=1) # or we can drop unknow column while reading dataset my making index=False"
   ]
  },
  {
   "cell_type": "code",
   "execution_count": 53,
   "metadata": {},
   "outputs": [
    {
     "name": "stdout",
     "output_type": "stream",
     "text": [
      "   id groups  age  healthy_eating  active_lifestyle\n",
      "0   0      A   36               5                 5\n",
      "1   1      A   55               3                 5\n",
      "2   2      A   61               8                 1\n",
      "3   3      O   29               3                 6\n",
      "4   4      O   34               6                 2\n",
      "(1000, 5)\n"
     ]
    }
   ],
   "source": [
    "print(X.head())\n",
    "print(X.shape)"
   ]
  },
  {
   "cell_type": "code",
   "execution_count": 54,
   "metadata": {},
   "outputs": [
    {
     "name": "stdout",
     "output_type": "stream",
     "text": [
      "groups  0\n",
      "age  0\n",
      "healthy_eating  0\n",
      "active_lifestyle  0\n"
     ]
    }
   ],
   "source": [
    "#here checking null\n",
    "print(\"groups \",X['groups'].isnull().sum())\n",
    "print(\"age \",X['age'].isnull().sum())\n",
    "print(\"healthy_eating \",X['healthy_eating'].isnull().sum())\n",
    "print(\"active_lifestyle \",X['active_lifestyle'].isnull().sum())"
   ]
  },
  {
   "cell_type": "code",
   "execution_count": null,
   "metadata": {},
   "outputs": [],
   "source": []
  },
  {
   "cell_type": "code",
   "execution_count": 55,
   "metadata": {},
   "outputs": [],
   "source": [
    "X=X.drop(['id'], axis=1)"
   ]
  },
  {
   "cell_type": "code",
   "execution_count": 56,
   "metadata": {},
   "outputs": [
    {
     "name": "stdout",
     "output_type": "stream",
     "text": [
      "  groups  age  healthy_eating  active_lifestyle\n",
      "0      A   36               5                 5\n",
      "1      A   55               3                 5\n",
      "2      A   61               8                 1\n",
      "3      O   29               3                 6\n",
      "4      O   34               6                 2\n",
      "(1000, 4)\n"
     ]
    }
   ],
   "source": [
    "print(X.head())\n",
    "print(X.shape)"
   ]
  },
  {
   "cell_type": "code",
   "execution_count": 57,
   "metadata": {},
   "outputs": [
    {
     "data": {
      "text/plain": [
       "groups              object\n",
       "age                  int64\n",
       "healthy_eating       int64\n",
       "active_lifestyle     int64\n",
       "dtype: object"
      ]
     },
     "execution_count": 57,
     "metadata": {},
     "output_type": "execute_result"
    }
   ],
   "source": [
    "X.dtypes\n",
    "\n",
    "\n",
    "# so group call is catogorical, we need to make it into numerical index using get_dummies() function,sothat we can train it"
   ]
  },
  {
   "cell_type": "code",
   "execution_count": 58,
   "metadata": {},
   "outputs": [
    {
     "name": "stdout",
     "output_type": "stream",
     "text": [
      "0    2297\n",
      "1    1134\n",
      "2    4969\n",
      "3     902\n",
      "4    3574\n",
      "Name: salary, dtype: int64\n",
      "(1000,)\n"
     ]
    }
   ],
   "source": [
    "print(y.head())\n",
    "print(y.shape)"
   ]
  },
  {
   "cell_type": "code",
   "execution_count": 24,
   "metadata": {},
   "outputs": [],
   "source": [
    "import matplotlib.pyplot as plt"
   ]
  },
  {
   "cell_type": "code",
   "execution_count": 25,
   "metadata": {},
   "outputs": [
    {
     "data": {
      "text/plain": [
       "[<matplotlib.lines.Line2D at 0x1c6c9022e48>]"
      ]
     },
     "execution_count": 25,
     "metadata": {},
     "output_type": "execute_result"
    },
    {
     "data": {
      "image/png": "[encoded data removed]",
      "text/plain": [
       "<Figure size 432x288 with 1 Axes>"
      ]
     },
     "metadata": {
      "needs_background": "light"
     },
     "output_type": "display_data"
    }
   ],
   "source": [
    "plt.plot(X['age'],y)"
   ]
  },
  {
   "cell_type": "code",
   "execution_count": 59,
   "metadata": {},
   "outputs": [
    {
     "data": {
      "text/html": [
       "<div>\n",
       "<style scoped>\n",
       "    .dataframe tbody tr th:only-of-type {\n",
       "        vertical-align: middle;\n",
       "    }\n",
       "\n",
       "    .dataframe tbody tr th {\n",
       "        vertical-align: top;\n",
       "    }\n",
       "\n",
       "    .dataframe thead th {\n",
       "        text-align: right;\n",
       "    }\n",
       "</style>\n",
       "<table border=\"1\" class=\"dataframe\">\n",
       "  <thead>\n",
       "    <tr style=\"text-align: right;\">\n",
       "      <th></th>\n",
       "      <th>groups</th>\n",
       "      <th>age</th>\n",
       "      <th>healthy_eating</th>\n",
       "      <th>active_lifestyle</th>\n",
       "    </tr>\n",
       "  </thead>\n",
       "  <tbody>\n",
       "    <tr>\n",
       "      <th>0</th>\n",
       "      <td>A</td>\n",
       "      <td>36</td>\n",
       "      <td>5</td>\n",
       "      <td>5</td>\n",
       "    </tr>\n",
       "    <tr>\n",
       "      <th>1</th>\n",
       "      <td>A</td>\n",
       "      <td>55</td>\n",
       "      <td>3</td>\n",
       "      <td>5</td>\n",
       "    </tr>\n",
       "    <tr>\n",
       "      <th>2</th>\n",
       "      <td>A</td>\n",
       "      <td>61</td>\n",
       "      <td>8</td>\n",
       "      <td>1</td>\n",
       "    </tr>\n",
       "    <tr>\n",
       "      <th>3</th>\n",
       "      <td>O</td>\n",
       "      <td>29</td>\n",
       "      <td>3</td>\n",
       "      <td>6</td>\n",
       "    </tr>\n",
       "    <tr>\n",
       "      <th>4</th>\n",
       "      <td>O</td>\n",
       "      <td>34</td>\n",
       "      <td>6</td>\n",
       "      <td>2</td>\n",
       "    </tr>\n",
       "  </tbody>\n",
       "</table>\n",
       "</div>"
      ],
      "text/plain": [
       "  groups  age  healthy_eating  active_lifestyle\n",
       "0      A   36               5                 5\n",
       "1      A   55               3                 5\n",
       "2      A   61               8                 1\n",
       "3      O   29               3                 6\n",
       "4      O   34               6                 2"
      ]
     },
     "execution_count": 59,
     "metadata": {},
     "output_type": "execute_result"
    }
   ],
   "source": [
    "X.head()"
   ]
  },
  {
   "cell_type": "code",
   "execution_count": 60,
   "metadata": {},
   "outputs": [],
   "source": [
    "group=pd.get_dummies(X['groups'])"
   ]
  },
  {
   "cell_type": "code",
   "execution_count": 61,
   "metadata": {},
   "outputs": [
    {
     "name": "stdout",
     "output_type": "stream",
     "text": [
      "   A  AB  B  O\n",
      "0  1   0  0  0\n",
      "1  1   0  0  0\n",
      "2  1   0  0  0\n",
      "3  0   0  0  1\n",
      "4  0   0  0  1\n",
      "(1000, 4)\n"
     ]
    }
   ],
   "source": [
    "print(group.head())\n",
    "print(group.shape)"
   ]
  },
  {
   "cell_type": "code",
   "execution_count": 62,
   "metadata": {},
   "outputs": [
    {
     "data": {
      "text/plain": [
       "(1000, 4)"
      ]
     },
     "execution_count": 62,
     "metadata": {},
     "output_type": "execute_result"
    }
   ],
   "source": [
    "X.shape"
   ]
  },
  {
   "cell_type": "code",
   "execution_count": 63,
   "metadata": {},
   "outputs": [
    {
     "name": "stdout",
     "output_type": "stream",
     "text": [
      "AB  0\n",
      "B  0\n",
      "O  0\n"
     ]
    }
   ],
   "source": [
    "print(\"AB \",group['AB'].isnull().sum())\n",
    "print(\"B \",group['B'].isnull().sum())\n",
    "print(\"O \",group['O'].isnull().sum())"
   ]
  },
  {
   "cell_type": "code",
   "execution_count": 64,
   "metadata": {},
   "outputs": [],
   "source": [
    "X=X.drop(['groups'],axis=1)"
   ]
  },
  {
   "cell_type": "code",
   "execution_count": 65,
   "metadata": {},
   "outputs": [
    {
     "name": "stdout",
     "output_type": "stream",
     "text": [
      "   age  healthy_eating  active_lifestyle\n",
      "0   36               5                 5\n",
      "1   55               3                 5\n",
      "2   61               8                 1\n",
      "3   29               3                 6\n",
      "4   34               6                 2\n",
      "(1000, 3)\n"
     ]
    }
   ],
   "source": [
    "print(X.head())\n",
    "print(X.shape)"
   ]
  },
  {
   "cell_type": "code",
   "execution_count": 66,
   "metadata": {},
   "outputs": [
    {
     "name": "stdout",
     "output_type": "stream",
     "text": [
      "   age  healthy_eating  active_lifestyle  A  AB  B  O\n",
      "0   36               5                 5  1   0  0  0\n",
      "1   55               3                 5  1   0  0  0\n",
      "2   61               8                 1  1   0  0  0\n",
      "3   29               3                 6  0   0  0  1\n",
      "4   34               6                 2  0   0  0  1\n",
      "(1000, 7)\n"
     ]
    }
   ],
   "source": [
    "X=pd.concat([X,group],axis=1)\n",
    "print(X.head())\n",
    "print(X.shape)"
   ]
  },
  {
   "cell_type": "code",
   "execution_count": 67,
   "metadata": {},
   "outputs": [
    {
     "name": "stdout",
     "output_type": "stream",
     "text": [
      "(1000, 7)\n",
      "   age  healthy_eating  active_lifestyle  A  AB  B  O\n",
      "0   36               5                 5  1   0  0  0\n",
      "1   55               3                 5  1   0  0  0\n",
      "2   61               8                 1  1   0  0  0\n",
      "3   29               3                 6  0   0  0  1\n",
      "4   34               6                 2  0   0  0  1\n"
     ]
    }
   ],
   "source": [
    "print(X.shape)\n",
    "print(X.head())\n"
   ]
  },
  {
   "cell_type": "code",
   "execution_count": 68,
   "metadata": {},
   "outputs": [],
   "source": [
    "# Splitting the dataset into the Training set and Test set\n",
    "from sklearn.model_selection import train_test_split\n",
    "X_train, X_test, y_train, y_test = train_test_split(X, y, test_size = 0.2, random_state = 0)"
   ]
  },
  {
   "cell_type": "code",
   "execution_count": 69,
   "metadata": {},
   "outputs": [],
   "source": [
    "# Fitting Multiple Linear Regression to the Training set\n",
    "from sklearn.linear_model import LinearRegression\n",
    "regressor = LinearRegression()"
   ]
  },
  {
   "cell_type": "code",
   "execution_count": 70,
   "metadata": {},
   "outputs": [
    {
     "data": {
      "text/plain": [
       "LinearRegression(copy_X=True, fit_intercept=True, n_jobs=None, normalize=False)"
      ]
     },
     "execution_count": 70,
     "metadata": {},
     "output_type": "execute_result"
    }
   ],
   "source": [
    "regressor.fit(X_train, y_train)"
   ]
  },
  {
   "cell_type": "code",
   "execution_count": 116,
   "metadata": {},
   "outputs": [
    {
     "data": {
      "text/plain": [
       "970.460782380308"
      ]
     },
     "execution_count": 116,
     "metadata": {},
     "output_type": "execute_result"
    }
   ],
   "source": [
    "regressor.intercept_"
   ]
  },
  {
   "cell_type": "code",
   "execution_count": 71,
   "metadata": {},
   "outputs": [
    {
     "data": {
      "text/html": [
       "<div>\n",
       "<style scoped>\n",
       "    .dataframe tbody tr th:only-of-type {\n",
       "        vertical-align: middle;\n",
       "    }\n",
       "\n",
       "    .dataframe tbody tr th {\n",
       "        vertical-align: top;\n",
       "    }\n",
       "\n",
       "    .dataframe thead th {\n",
       "        text-align: right;\n",
       "    }\n",
       "</style>\n",
       "<table border=\"1\" class=\"dataframe\">\n",
       "  <thead>\n",
       "    <tr style=\"text-align: right;\">\n",
       "      <th></th>\n",
       "      <th>age</th>\n",
       "      <th>healthy_eating</th>\n",
       "      <th>active_lifestyle</th>\n",
       "      <th>A</th>\n",
       "      <th>AB</th>\n",
       "      <th>B</th>\n",
       "      <th>O</th>\n",
       "    </tr>\n",
       "  </thead>\n",
       "  <tbody>\n",
       "    <tr>\n",
       "      <th>993</th>\n",
       "      <td>56</td>\n",
       "      <td>5</td>\n",
       "      <td>5</td>\n",
       "      <td>1</td>\n",
       "      <td>0</td>\n",
       "      <td>0</td>\n",
       "      <td>0</td>\n",
       "    </tr>\n",
       "    <tr>\n",
       "      <th>859</th>\n",
       "      <td>41</td>\n",
       "      <td>3</td>\n",
       "      <td>8</td>\n",
       "      <td>0</td>\n",
       "      <td>0</td>\n",
       "      <td>0</td>\n",
       "      <td>1</td>\n",
       "    </tr>\n",
       "    <tr>\n",
       "      <th>298</th>\n",
       "      <td>33</td>\n",
       "      <td>1</td>\n",
       "      <td>9</td>\n",
       "      <td>1</td>\n",
       "      <td>0</td>\n",
       "      <td>0</td>\n",
       "      <td>0</td>\n",
       "    </tr>\n",
       "    <tr>\n",
       "      <th>553</th>\n",
       "      <td>27</td>\n",
       "      <td>3</td>\n",
       "      <td>5</td>\n",
       "      <td>1</td>\n",
       "      <td>0</td>\n",
       "      <td>0</td>\n",
       "      <td>0</td>\n",
       "    </tr>\n",
       "    <tr>\n",
       "      <th>672</th>\n",
       "      <td>50</td>\n",
       "      <td>5</td>\n",
       "      <td>7</td>\n",
       "      <td>1</td>\n",
       "      <td>0</td>\n",
       "      <td>0</td>\n",
       "      <td>0</td>\n",
       "    </tr>\n",
       "    <tr>\n",
       "      <th>...</th>\n",
       "      <td>...</td>\n",
       "      <td>...</td>\n",
       "      <td>...</td>\n",
       "      <td>...</td>\n",
       "      <td>...</td>\n",
       "      <td>...</td>\n",
       "      <td>...</td>\n",
       "    </tr>\n",
       "    <tr>\n",
       "      <th>679</th>\n",
       "      <td>50</td>\n",
       "      <td>5</td>\n",
       "      <td>6</td>\n",
       "      <td>0</td>\n",
       "      <td>0</td>\n",
       "      <td>1</td>\n",
       "      <td>0</td>\n",
       "    </tr>\n",
       "    <tr>\n",
       "      <th>722</th>\n",
       "      <td>36</td>\n",
       "      <td>5</td>\n",
       "      <td>9</td>\n",
       "      <td>1</td>\n",
       "      <td>0</td>\n",
       "      <td>0</td>\n",
       "      <td>0</td>\n",
       "    </tr>\n",
       "    <tr>\n",
       "      <th>215</th>\n",
       "      <td>61</td>\n",
       "      <td>9</td>\n",
       "      <td>9</td>\n",
       "      <td>0</td>\n",
       "      <td>0</td>\n",
       "      <td>1</td>\n",
       "      <td>0</td>\n",
       "    </tr>\n",
       "    <tr>\n",
       "      <th>653</th>\n",
       "      <td>55</td>\n",
       "      <td>3</td>\n",
       "      <td>6</td>\n",
       "      <td>0</td>\n",
       "      <td>0</td>\n",
       "      <td>0</td>\n",
       "      <td>1</td>\n",
       "    </tr>\n",
       "    <tr>\n",
       "      <th>150</th>\n",
       "      <td>49</td>\n",
       "      <td>5</td>\n",
       "      <td>4</td>\n",
       "      <td>0</td>\n",
       "      <td>1</td>\n",
       "      <td>0</td>\n",
       "      <td>0</td>\n",
       "    </tr>\n",
       "  </tbody>\n",
       "</table>\n",
       "<p>200 rows × 7 columns</p>\n",
       "</div>"
      ],
      "text/plain": [
       "     age  healthy_eating  active_lifestyle  A  AB  B  O\n",
       "993   56               5                 5  1   0  0  0\n",
       "859   41               3                 8  0   0  0  1\n",
       "298   33               1                 9  1   0  0  0\n",
       "553   27               3                 5  1   0  0  0\n",
       "672   50               5                 7  1   0  0  0\n",
       "..   ...             ...               ... ..  .. .. ..\n",
       "679   50               5                 6  0   0  1  0\n",
       "722   36               5                 9  1   0  0  0\n",
       "215   61               9                 9  0   0  1  0\n",
       "653   55               3                 6  0   0  0  1\n",
       "150   49               5                 4  0   1  0  0\n",
       "\n",
       "[200 rows x 7 columns]"
      ]
     },
     "execution_count": 71,
     "metadata": {},
     "output_type": "execute_result"
    }
   ],
   "source": [
    "X_test"
   ]
  },
  {
   "cell_type": "code",
   "execution_count": 72,
   "metadata": {},
   "outputs": [],
   "source": [
    "# Predicting the Test set results\n",
    "y_pred = regressor.predict(X_test)"
   ]
  },
  {
   "cell_type": "code",
   "execution_count": 73,
   "metadata": {},
   "outputs": [
    {
     "data": {
      "text/plain": [
       "array([2363.68938998,  893.20689664, -248.45093201, 1434.1221456 ,\n",
       "       1995.58241986,  426.10099138, 1450.01191797, 2988.15157272,\n",
       "       1817.60259821, 1321.18951203, 2452.31668309, 2253.57879823,\n",
       "       1522.04557686, 3173.27688074, 1337.62413069, 2890.58173486,\n",
       "       1615.31743611, 1297.350499  , 3277.1324505 , 2965.33409028,\n",
       "       2801.59716743, 2651.38637633, 3850.02550296,  548.6319576 ,\n",
       "       3240.88374979, 2485.00903523, 1832.42054763,  928.17170592,\n",
       "       2933.00969925, 1424.11846468, 3364.11857786, 3088.4343993 ,\n",
       "       3728.86487328, 3189.21970603,  964.87259442, 3213.90778675,\n",
       "       2574.35087697, 1967.31090916, 4041.2244744 , 2283.08114744,\n",
       "        554.56041518, 1071.1760315 ,  425.74371706, 1241.49407689,\n",
       "       3615.42165765, 1683.33187184, 2481.07901772, 2963.54771869,\n",
       "       2296.30029723, 1174.47294525,   46.19328195,   82.24060097,\n",
       "       1594.20209858, 1155.01042969, 2432.63044283, 1312.93604997,\n",
       "       2661.03278293, 4872.15005796, 2385.29555145, 2798.72828609,\n",
       "       3394.03125431, 2489.65360137, 2811.81291684, 2737.5127492 ,\n",
       "       2301.31282449, 1641.92543804, 2175.69520063, 2960.68952414,\n",
       "       2764.83529977, 2841.87079912, 1634.62093611, 1362.45644782,\n",
       "       3805.90608045, 1854.87006896, 2243.56443052, 3698.33256166,\n",
       "       2856.68874854, 2864.19150923, 1721.46185762, 1508.42231323,\n",
       "       1917.47509755, 3046.65688146, 1436.62306583, 4217.41792445,\n",
       "       1265.60115859, 1641.22157619, 2198.38387184, 3141.88481465,\n",
       "       1525.61832005, 1516.31850097, 2024.3340677 , 3458.68501534,\n",
       "       3146.52938079, 1208.00865725, 1594.20209858, 2296.65757155,\n",
       "       1896.94075904, 2864.19150923, 2315.90231081,  608.01083053,\n",
       "       1617.81835634,  397.69593107, 2652.45819928, 1304.70805385,\n",
       "       2951.75766617, 3143.31391193, 2363.33211566,  793.85068718,\n",
       "        555.63223813, 2147.06641561, 2657.10276542, 2894.15447804,\n",
       "       3120.27865318, 3427.43815508, 3737.58466276, 2002.37063191,\n",
       "       2374.05034522, 2433.34499147, 1616.74653339,  205.78241099,\n",
       "       3700.83348189, 2833.65348979, 3113.83702866,  782.24820664,\n",
       "       2394.59537053,  516.8719304 , 1455.73899386, 3700.83348189,\n",
       "       2483.57993795, 1618.17563066, 2994.22523614, 2790.72304524,\n",
       "       3139.74116874, 2475.19292627, 1998.79788873, 2456.96124923,\n",
       "       4148.83414591, 2181.77955083,  225.44318531, 3413.49376987,\n",
       "       2011.47219223, 1861.66896781, 3118.13500727, 1052.08147705,\n",
       "       1594.20209858, 2349.38773045, 1531.69198346, 3694.40254415,\n",
       "       1022.38086908, 2003.08518055, 1660.45562866, 1492.70224321,\n",
       "       2495.01271615, 2120.11753397, 1765.88550153, 1593.47686315,\n",
       "       1693.58377398, 1442.70741604, 2947.81696188, 1262.0284154 ,\n",
       "       2855.25965126, 2473.763829  , 2661.74733157, 2931.21264087,\n",
       "       1006.43804378, 1328.69227272, 3038.79684645, 3180.99170991,\n",
       "       3342.31415763, 1806.15913323, 1993.43877395, 2858.11784581,\n",
       "       3028.42520442, 1161.79864175, 2116.90206511,  928.52898024,\n",
       "        -74.04385355, 3963.35156358, 3283.20611392, 1901.9425995 ,\n",
       "       2242.28053908, 1203.00681679, 2860.97604036, 1821.69163128,\n",
       "       1447.51099774, 2090.99792502,  871.0452021 ,  199.35147326,\n",
       "       3247.31468753, 2768.06145543, 3116.70590999, 1341.56483498,\n",
       "       3328.43921994, 2758.40436204, 2554.88836142, 2233.34868112,\n",
       "       1630.33364428, 3553.8991388 , 1258.45567222, 2523.04410754])"
      ]
     },
     "execution_count": 73,
     "metadata": {},
     "output_type": "execute_result"
    }
   ],
   "source": [
    "y_pred"
   ]
  },
  {
   "cell_type": "code",
   "execution_count": 74,
   "metadata": {},
   "outputs": [
    {
     "data": {
      "text/plain": [
       "993    2297\n",
       "859     662\n",
       "298    2056\n",
       "553    1134\n",
       "672    1833\n",
       "       ... \n",
       "679    2065\n",
       "722    1369\n",
       "215    3694\n",
       "653     902\n",
       "150    2529\n",
       "Name: salary, Length: 200, dtype: int64"
      ]
     },
     "execution_count": 74,
     "metadata": {},
     "output_type": "execute_result"
    }
   ],
   "source": [
    "y_test"
   ]
  },
  {
   "cell_type": "code",
   "execution_count": 75,
   "metadata": {},
   "outputs": [],
   "source": [
    "from sklearn.metrics import r2_score\n",
    "#through this we will calculate accuracy"
   ]
  },
  {
   "cell_type": "code",
   "execution_count": 76,
   "metadata": {},
   "outputs": [
    {
     "data": {
      "text/plain": [
       "0.8509563941287837"
      ]
     },
     "execution_count": 76,
     "metadata": {},
     "output_type": "execute_result"
    }
   ],
   "source": [
    "score=r2_score(y_test,y_pred)\n",
    "score   # model is performing well because we have got 0.9(above .8 is consider model is good)"
   ]
  },
  {
   "cell_type": "markdown",
   "metadata": {},
   "source": [
    "### Ridge "
   ]
  },
  {
   "cell_type": "code",
   "execution_count": 77,
   "metadata": {},
   "outputs": [],
   "source": [
    "from sklearn.linear_model import Ridge"
   ]
  },
  {
   "cell_type": "code",
   "execution_count": 78,
   "metadata": {},
   "outputs": [],
   "source": [
    "re=Ridge()"
   ]
  },
  {
   "cell_type": "code",
   "execution_count": 80,
   "metadata": {},
   "outputs": [
    {
     "data": {
      "text/plain": [
       "Ridge(alpha=1.0, copy_X=True, fit_intercept=True, max_iter=None,\n",
       "      normalize=False, random_state=None, solver='auto', tol=0.001)"
      ]
     },
     "execution_count": 80,
     "metadata": {},
     "output_type": "execute_result"
    }
   ],
   "source": [
    "re.fit(X_train, y_train)"
   ]
  },
  {
   "cell_type": "code",
   "execution_count": 117,
   "metadata": {},
   "outputs": [
    {
     "data": {
      "text/plain": [
       "970.9870755295149"
      ]
     },
     "execution_count": 117,
     "metadata": {},
     "output_type": "execute_result"
    }
   ],
   "source": [
    "re.intercept_"
   ]
  },
  {
   "cell_type": "code",
   "execution_count": 91,
   "metadata": {},
   "outputs": [],
   "source": [
    "# Predicting the Test set results\n",
    "y_pred1 = re.predict(X_test)"
   ]
  },
  {
   "cell_type": "code",
   "execution_count": 92,
   "metadata": {},
   "outputs": [
    {
     "name": "stdout",
     "output_type": "stream",
     "text": [
      "[2363.65329561  893.59318907 -247.63924973 1434.44261428 1995.66247244\n",
      "  426.65206146 1450.25099771 2987.47689665 1817.77604207 1321.47758822\n",
      " 2452.29192114 2253.94772583 1522.25301177 3172.55036375 1338.00777271\n",
      " 2889.96399957 1615.56321117 1297.23946476 3277.18731024 2965.11746209\n",
      " 2800.96602221 2651.27058551 3849.90642717  548.68050413 3240.51678954\n",
      " 2484.88031653 1832.50636999  928.17058608 2932.77889418 1424.38076285\n",
      " 3363.37346023 3088.52032478 3728.78583323 3189.26738839  965.34537566\n",
      " 3213.67802353 2574.23764573 1967.76784329 4041.08887549 2283.02683747\n",
      "  555.4452017  1071.58914379  426.29270962 1241.82275861 3614.97594577\n",
      " 1683.08835541 2480.92744632 2963.3207029  2296.32285542 1174.7421459\n",
      "   46.91215203   82.4580802  1594.7460944  1155.34024411 2432.91221171\n",
      " 1313.59713756 2660.9730851  4871.70860423 2385.21130842 2798.20073187\n",
      " 3393.72056492 2489.5518904  2812.04294182 2737.39374818 2301.24425678\n",
      " 1642.1521497  2175.81453818 2960.44588821 2764.70139037 2841.73433015\n",
      " 1634.858686   1362.69042769 3805.43969042 1854.61597707 2243.99539876\n",
      " 3697.86494191 2856.46465807 2864.01104664 1721.70055234 1509.09180792\n",
      " 1917.55147715 3046.46262391 1436.95807714 4217.17854667 1265.89623428\n",
      " 1641.32392167 2198.34108214 3141.56648511 1525.84653014 1516.61290675\n",
      " 2024.40752198 3458.66725897 3146.23805898 1207.88213556 1594.7460944\n",
      " 2296.68220726 1897.07151985 2864.01104664 2315.44812346  608.49136203\n",
      " 1618.07867403  398.37588811 2652.34864102 1305.44156968 2951.46209229\n",
      " 3143.00389245 2363.29394378  794.2835328   556.52325721 2147.56055719\n",
      " 2657.02021489 2893.55751794 3120.00847229 3427.02766398 3736.75456096\n",
      " 2002.49015733 2374.07449888 2433.63091538 1617.00061852  206.47473612\n",
      " 3700.38040477 2833.46923791 3113.64966359  782.78737141 2394.44493182\n",
      "  517.44679801 1455.89110273 3700.38040477 2483.44290918 1618.43802587\n",
      " 2993.58587787 2790.95070781 3139.41037409 2475.18091433 1998.89663897\n",
      " 2456.96349501 4148.27898242 2181.81399505  226.12956278 3413.12246671\n",
      " 2011.47085586 1861.33413761 3117.85236127 1052.43706948 1594.7460944\n",
      " 2349.38874651 1531.95551136 3693.91207171 1023.10503298 2003.20886101\n",
      " 1660.19936222 1493.28032711 2494.94216795 2120.12365988 1765.61799971\n",
      " 1594.13691508 1693.78063344 1442.957534   2947.61874645 1262.30271591\n",
      " 2855.02725072 2473.74350698 2661.69178877 2931.09165935 1006.38800834\n",
      " 1329.02397679 3038.5568835  3181.1118205  3341.56252256 1806.38630766\n",
      " 1993.50636142 2857.90206542 3028.2452046  1162.167929   2116.88949335\n",
      "  928.52993791  -73.34633773 3962.84616348 3283.29629146 1902.10244556\n",
      " 2241.90227507 1202.85120985 2860.77688011 1821.83533925 1447.73553485\n",
      " 2091.12878286  871.42289955  200.00640306 3246.9851226  2767.82603254\n",
      " 3116.41495393 1341.85111855 3328.07735955 2758.23305731 2554.83574393\n",
      " 2232.91847915 1630.54646396 3553.00897685 1258.70919755 2523.34759641]\n"
     ]
    }
   ],
   "source": [
    "print(y_pred1)"
   ]
  },
  {
   "cell_type": "code",
   "execution_count": 93,
   "metadata": {},
   "outputs": [
    {
     "name": "stdout",
     "output_type": "stream",
     "text": [
      "993    2297\n",
      "859     662\n",
      "298    2056\n",
      "553    1134\n",
      "672    1833\n",
      "       ... \n",
      "679    2065\n",
      "722    1369\n",
      "215    3694\n",
      "653     902\n",
      "150    2529\n",
      "Name: salary, Length: 200, dtype: int64\n"
     ]
    }
   ],
   "source": [
    "print(y_test)"
   ]
  },
  {
   "cell_type": "code",
   "execution_count": 94,
   "metadata": {},
   "outputs": [],
   "source": [
    "ridge_score=r2_score(y_test,y_pred1)"
   ]
  },
  {
   "cell_type": "code",
   "execution_count": 95,
   "metadata": {},
   "outputs": [
    {
     "data": {
      "text/plain": [
       "0.8509882790615015"
      ]
     },
     "execution_count": 95,
     "metadata": {},
     "output_type": "execute_result"
    }
   ],
   "source": [
    "ridge_score  "
   ]
  },
  {
   "cell_type": "code",
   "execution_count": 88,
   "metadata": {},
   "outputs": [],
   "source": [
    "from sklearn.linear_model import Lasso"
   ]
  },
  {
   "cell_type": "code",
   "execution_count": 103,
   "metadata": {},
   "outputs": [],
   "source": []
  },
  {
   "cell_type": "code",
   "execution_count": 112,
   "metadata": {},
   "outputs": [
    {
     "data": {
      "text/plain": [
       "Lasso(alpha=1.0, copy_X=True, fit_intercept=True, max_iter=1000,\n",
       "      normalize=False, positive=False, precompute=False, random_state=None,\n",
       "      selection='cyclic', tol=0.0001, warm_start=False)"
      ]
     },
     "execution_count": 112,
     "metadata": {},
     "output_type": "execute_result"
    }
   ],
   "source": [
    "\n",
    "las=Lasso()\n",
    "las.fit(X_train, y_train)"
   ]
  },
  {
   "cell_type": "code",
   "execution_count": 120,
   "metadata": {},
   "outputs": [
    {
     "name": "stdout",
     "output_type": "stream",
     "text": [
      "976.6249074486577\n",
      "True\n"
     ]
    }
   ],
   "source": [
    "print(las.intercept_)\n",
    "print(las.fit_intercept)"
   ]
  },
  {
   "cell_type": "code",
   "execution_count": 97,
   "metadata": {},
   "outputs": [],
   "source": [
    "# Predicting the Test set results\n",
    "y_pred2 = las.predict(X_test)"
   ]
  },
  {
   "cell_type": "code",
   "execution_count": 98,
   "metadata": {},
   "outputs": [],
   "source": [
    "lasso_score=r2_score(y_test,y_pred2)"
   ]
  },
  {
   "cell_type": "code",
   "execution_count": 99,
   "metadata": {},
   "outputs": [
    {
     "data": {
      "text/plain": [
       "0.8512090359830247"
      ]
     },
     "execution_count": 99,
     "metadata": {},
     "output_type": "execute_result"
    }
   ],
   "source": [
    "lasso_score"
   ]
  }
 ],
 "metadata": {
  "kernelspec": {
   "display_name": "Python 3",
   "language": "python",
   "name": "python3"
  },
  "language_info": {
   "codemirror_mode": {
    "name": "ipython",
    "version": 3
   },
   "file_extension": ".py",
   "mimetype": "text/x-python",
   "name": "python",
   "nbconvert_exporter": "python",
   "pygments_lexer": "ipython3",
   "version": "3.7.6"
  }
 },
 "nbformat": 4,
 "nbformat_minor": 4
}
