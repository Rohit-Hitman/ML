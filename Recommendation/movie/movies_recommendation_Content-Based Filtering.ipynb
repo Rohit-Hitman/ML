{
 "cells": [
  {
   "cell_type": "code",
   "execution_count": 1,
   "id": "11ba3168",
   "metadata": {},
   "outputs": [],
   "source": [
    "import pandas as pd\n",
    "from sklearn.feature_extraction.text import TfidfVectorizer\n",
    "from sklearn.metrics.pairwise import linear_kernel"
   ]
  },
  {
   "cell_type": "code",
   "execution_count": 2,
   "id": "9dfd4bb1",
   "metadata": {},
   "outputs": [],
   "source": [
    "df = pd.read_csv('movies.csv')\n"
   ]
  },
  {
   "cell_type": "code",
   "execution_count": 27,
   "id": "89349c69",
   "metadata": {},
   "outputs": [
    {
     "data": {
      "text/plain": [
       "movieId    9742\n",
       "title      9742\n",
       "genres     9742\n",
       "content    9742\n",
       "dtype: int64"
      ]
     },
     "execution_count": 27,
     "metadata": {},
     "output_type": "execute_result"
    }
   ],
   "source": [
    "df.count()"
   ]
  },
  {
   "cell_type": "code",
   "execution_count": 26,
   "id": "e86fb865",
   "metadata": {},
   "outputs": [
    {
     "data": {
      "text/html": [
       "<div>\n",
       "<style scoped>\n",
       "    .dataframe tbody tr th:only-of-type {\n",
       "        vertical-align: middle;\n",
       "    }\n",
       "\n",
       "    .dataframe tbody tr th {\n",
       "        vertical-align: top;\n",
       "    }\n",
       "\n",
       "    .dataframe thead th {\n",
       "        text-align: right;\n",
       "    }\n",
       "</style>\n",
       "<table border=\"1\" class=\"dataframe\">\n",
       "  <thead>\n",
       "    <tr style=\"text-align: right;\">\n",
       "      <th></th>\n",
       "      <th>movieId</th>\n",
       "      <th>title</th>\n",
       "      <th>genres</th>\n",
       "      <th>content</th>\n",
       "    </tr>\n",
       "  </thead>\n",
       "  <tbody>\n",
       "    <tr>\n",
       "      <th>0</th>\n",
       "      <td>1</td>\n",
       "      <td>Toy Story (1995)</td>\n",
       "      <td>Adventure|Animation|Children|Comedy|Fantasy</td>\n",
       "      <td>Adventure|Animation|Children|Comedy|Fantasy To...</td>\n",
       "    </tr>\n",
       "    <tr>\n",
       "      <th>1</th>\n",
       "      <td>2</td>\n",
       "      <td>Jumanji (1995)</td>\n",
       "      <td>Adventure|Children|Fantasy</td>\n",
       "      <td>Adventure|Children|Fantasy Jumanji (1995)</td>\n",
       "    </tr>\n",
       "    <tr>\n",
       "      <th>2</th>\n",
       "      <td>3</td>\n",
       "      <td>Grumpier Old Men (1995)</td>\n",
       "      <td>Comedy|Romance</td>\n",
       "      <td>Comedy|Romance Grumpier Old Men (1995)</td>\n",
       "    </tr>\n",
       "    <tr>\n",
       "      <th>3</th>\n",
       "      <td>4</td>\n",
       "      <td>Waiting to Exhale (1995)</td>\n",
       "      <td>Comedy|Drama|Romance</td>\n",
       "      <td>Comedy|Drama|Romance Waiting to Exhale (1995)</td>\n",
       "    </tr>\n",
       "    <tr>\n",
       "      <th>4</th>\n",
       "      <td>5</td>\n",
       "      <td>Father of the Bride Part II (1995)</td>\n",
       "      <td>Comedy</td>\n",
       "      <td>Comedy Father of the Bride Part II (1995)</td>\n",
       "    </tr>\n",
       "  </tbody>\n",
       "</table>\n",
       "</div>"
      ],
      "text/plain": [
       "   movieId                               title  \\\n",
       "0        1                    Toy Story (1995)   \n",
       "1        2                      Jumanji (1995)   \n",
       "2        3             Grumpier Old Men (1995)   \n",
       "3        4            Waiting to Exhale (1995)   \n",
       "4        5  Father of the Bride Part II (1995)   \n",
       "\n",
       "                                        genres  \\\n",
       "0  Adventure|Animation|Children|Comedy|Fantasy   \n",
       "1                   Adventure|Children|Fantasy   \n",
       "2                               Comedy|Romance   \n",
       "3                         Comedy|Drama|Romance   \n",
       "4                                       Comedy   \n",
       "\n",
       "                                             content  \n",
       "0  Adventure|Animation|Children|Comedy|Fantasy To...  \n",
       "1          Adventure|Children|Fantasy Jumanji (1995)  \n",
       "2             Comedy|Romance Grumpier Old Men (1995)  \n",
       "3      Comedy|Drama|Romance Waiting to Exhale (1995)  \n",
       "4          Comedy Father of the Bride Part II (1995)  "
      ]
     },
     "execution_count": 26,
     "metadata": {},
     "output_type": "execute_result"
    }
   ],
   "source": [
    "df.head()"
   ]
  },
  {
   "cell_type": "code",
   "execution_count": 5,
   "id": "9b07a134",
   "metadata": {},
   "outputs": [],
   "source": [
    "df['content'] = df['genres'] + ' ' + df['title']"
   ]
  },
  {
   "cell_type": "code",
   "execution_count": 12,
   "id": "14d33473",
   "metadata": {},
   "outputs": [
    {
     "data": {
      "text/html": [
       "<div>\n",
       "<style scoped>\n",
       "    .dataframe tbody tr th:only-of-type {\n",
       "        vertical-align: middle;\n",
       "    }\n",
       "\n",
       "    .dataframe tbody tr th {\n",
       "        vertical-align: top;\n",
       "    }\n",
       "\n",
       "    .dataframe thead th {\n",
       "        text-align: right;\n",
       "    }\n",
       "</style>\n",
       "<table border=\"1\" class=\"dataframe\">\n",
       "  <thead>\n",
       "    <tr style=\"text-align: right;\">\n",
       "      <th></th>\n",
       "      <th>movieId</th>\n",
       "      <th>title</th>\n",
       "      <th>genres</th>\n",
       "      <th>content</th>\n",
       "    </tr>\n",
       "  </thead>\n",
       "  <tbody>\n",
       "    <tr>\n",
       "      <th>0</th>\n",
       "      <td>1</td>\n",
       "      <td>Toy Story (1995)</td>\n",
       "      <td>Adventure|Animation|Children|Comedy|Fantasy</td>\n",
       "      <td>Adventure|Animation|Children|Comedy|Fantasy To...</td>\n",
       "    </tr>\n",
       "    <tr>\n",
       "      <th>1</th>\n",
       "      <td>2</td>\n",
       "      <td>Jumanji (1995)</td>\n",
       "      <td>Adventure|Children|Fantasy</td>\n",
       "      <td>Adventure|Children|Fantasy Jumanji (1995)</td>\n",
       "    </tr>\n",
       "    <tr>\n",
       "      <th>2</th>\n",
       "      <td>3</td>\n",
       "      <td>Grumpier Old Men (1995)</td>\n",
       "      <td>Comedy|Romance</td>\n",
       "      <td>Comedy|Romance Grumpier Old Men (1995)</td>\n",
       "    </tr>\n",
       "    <tr>\n",
       "      <th>3</th>\n",
       "      <td>4</td>\n",
       "      <td>Waiting to Exhale (1995)</td>\n",
       "      <td>Comedy|Drama|Romance</td>\n",
       "      <td>Comedy|Drama|Romance Waiting to Exhale (1995)</td>\n",
       "    </tr>\n",
       "    <tr>\n",
       "      <th>4</th>\n",
       "      <td>5</td>\n",
       "      <td>Father of the Bride Part II (1995)</td>\n",
       "      <td>Comedy</td>\n",
       "      <td>Comedy Father of the Bride Part II (1995)</td>\n",
       "    </tr>\n",
       "  </tbody>\n",
       "</table>\n",
       "</div>"
      ],
      "text/plain": [
       "   movieId                               title  \\\n",
       "0        1                    Toy Story (1995)   \n",
       "1        2                      Jumanji (1995)   \n",
       "2        3             Grumpier Old Men (1995)   \n",
       "3        4            Waiting to Exhale (1995)   \n",
       "4        5  Father of the Bride Part II (1995)   \n",
       "\n",
       "                                        genres  \\\n",
       "0  Adventure|Animation|Children|Comedy|Fantasy   \n",
       "1                   Adventure|Children|Fantasy   \n",
       "2                               Comedy|Romance   \n",
       "3                         Comedy|Drama|Romance   \n",
       "4                                       Comedy   \n",
       "\n",
       "                                             content  \n",
       "0  Adventure|Animation|Children|Comedy|Fantasy To...  \n",
       "1          Adventure|Children|Fantasy Jumanji (1995)  \n",
       "2             Comedy|Romance Grumpier Old Men (1995)  \n",
       "3      Comedy|Drama|Romance Waiting to Exhale (1995)  \n",
       "4          Comedy Father of the Bride Part II (1995)  "
      ]
     },
     "execution_count": 12,
     "metadata": {},
     "output_type": "execute_result"
    }
   ],
   "source": [
    "df.head()"
   ]
  },
  {
   "cell_type": "markdown",
   "id": "9b32e8f2",
   "metadata": {},
   "source": [
    "Using the TF-IDF (Term Frequency-Inverse Document Frequency) technique, we'll convert text data into a \n",
    "numerical representation that can be used for \n",
    "similarity calculations."
   ]
  },
  {
   "cell_type": "code",
   "execution_count": 13,
   "id": "8e317b40",
   "metadata": {},
   "outputs": [],
   "source": [
    "tfidf = TfidfVectorizer(stop_words='english')\n",
    "tfidf_matrix = tfidf.fit_transform(df['content'])\n",
    "\n",
    "# the fit_transform method is used to transform the text data into a numerical representation using the TF-IDF \n",
    "#(Term Frequency-Inverse Document Frequency) technique"
   ]
  },
  {
   "cell_type": "code",
   "execution_count": 48,
   "id": "c18f0286",
   "metadata": {},
   "outputs": [
    {
     "name": "stdout",
     "output_type": "stream",
     "text": [
      "TfidfVectorizer(stop_words='english')\n",
      "  (0, 116)\t0.3462681147602057\n",
      "  (0, 7698)\t0.4336085282954199\n",
      "  (0, 8190)\t0.6285267783370819\n",
      "  (0, 2853)\t0.2639918503330498\n",
      "  (0, 1766)\t0.1462569168855382\n",
      "  (0, 1569)\t0.27306521182266125\n",
      "  (0, 465)\t0.28215755410829646\n",
      "  (0, 275)\t0.227543067958222\n",
      "  (1, 4376)\t0.7709731800692313\n",
      "  (1, 116)\t0.3923409565109917\n",
      "  (1, 2853)\t0.2991173909919543\n",
      "  (1, 1569)\t0.30939801220384205\n",
      "  (1, 275)\t0.25781890137934854\n",
      "  (2, 5217)\t0.4199181434585641\n",
      "  (2, 5825)\t0.5011982812311119\n",
      "  (2, 3513)\t0.6471082530862423\n",
      "  (2, 6783)\t0.1913506107837027\n",
      "  (2, 116)\t0.315239161006609\n",
      "  (2, 1766)\t0.13315089032190922\n",
      "  (3, 2770)\t0.671241749294435\n",
      "  (3, 8657)\t0.6064390511340177\n",
      "  (3, 2448)\t0.12754083492368723\n",
      "  (3, 6783)\t0.19848691173143362\n",
      "  (3, 116)\t0.32699580768905046\n",
      "  (3, 1766)\t0.13811666921806096\n",
      "  :\t:\n",
      "  (9737, 465)\t0.21030220513745695\n",
      "  (9738, 142)\t0.3703662733354052\n",
      "  (9738, 8997)\t0.5497487204607421\n",
      "  (9738, 4794)\t0.4160991947729659\n",
      "  (9738, 3221)\t0.4819829236580419\n",
      "  (9738, 2853)\t0.2516911129083527\n",
      "  (9738, 1766)\t0.13944205525672254\n",
      "  (9738, 465)\t0.2690103831592605\n",
      "  (9739, 142)\t0.5001407821807233\n",
      "  (9739, 3015)\t0.8483064364803391\n",
      "  (9739, 2448)\t0.1738832591875444\n",
      "  (9740, 1255)\t0.4773871288886305\n",
      "  (9740, 143)\t0.32306990974575917\n",
      "  (9740, 7711)\t0.45699300621030364\n",
      "  (9740, 509)\t0.4221290232144972\n",
      "  (9740, 2377)\t0.3697458768910944\n",
      "  (9740, 2143)\t0.30001791089948154\n",
      "  (9740, 250)\t0.13438075811636338\n",
      "  (9740, 465)\t0.18950169955121504\n",
      "  (9741, 2289)\t0.7623842697075087\n",
      "  (9741, 6848)\t0.32078406625070327\n",
      "  (9741, 1671)\t0.36490749144428697\n",
      "  (9741, 442)\t0.36490749144428697\n",
      "  (9741, 112)\t0.2083285176093627\n",
      "  (9741, 1766)\t0.07843521064275814\n"
     ]
    }
   ],
   "source": [
    "print(tfidf)\n",
    "print(tfidf_matrix)"
   ]
  },
  {
   "cell_type": "code",
   "execution_count": 7,
   "id": "a85ed95f",
   "metadata": {},
   "outputs": [],
   "source": [
    "#We'll compute the cosine similarity between the movies based on their TF-IDF matrix.\n",
    "cosine_sim = linear_kernel(tfidf_matrix, tfidf_matrix)\n",
    "\n",
    "#the linear_kernel function is used to compute the cosine similarity between the TF-IDF matrix."
   ]
  },
  {
   "cell_type": "code",
   "execution_count": 18,
   "id": "943741a6",
   "metadata": {},
   "outputs": [
    {
     "name": "stdout",
     "output_type": "stream",
     "text": [
      "[[1.         0.35797045 0.12863151 ... 0.         0.05346934 0.01147169]\n",
      " [0.35797045 1.         0.12368123 ... 0.         0.         0.        ]\n",
      " [0.12863151 0.12368123 1.         ... 0.         0.         0.01044372]\n",
      " ...\n",
      " [0.         0.         0.         ... 1.         0.         0.        ]\n",
      " [0.05346934 0.         0.         ... 0.         1.         0.        ]\n",
      " [0.01147169 0.         0.01044372 ... 0.         0.         1.        ]]\n"
     ]
    }
   ],
   "source": [
    "print(cosine_sim)"
   ]
  },
  {
   "cell_type": "code",
   "execution_count": 8,
   "id": "8d68de1a",
   "metadata": {},
   "outputs": [],
   "source": [
    "#Given a movie title, we'll find the most similar movies based on the cosine similarity scores.\n",
    "def get_recommendations(title, cosine_sim, df, top_n=5):\n",
    "    # Get the index of the movie that matches the title\n",
    "    idx = df[df['title'] == title].index[0]\n",
    "\n",
    "    \n",
    "    # Get the pairwise similarity scores of all movies with that movie\n",
    "    sim_scores = list(enumerate(cosine_sim[idx]))\n",
    "\n",
    "    \n",
    "    # Sort the movies based on the similarity scores and x[1] contains similarity score and x[0] contains index of a movie.\n",
    "    #The reverse=True argument ensures that the sorting is done in descending order. his means that movies with higher- \n",
    "    #-similarity scores will appear at the beginning of the sorted list.\n",
    "    sim_scores = sorted(sim_scores, key=lambda x: x[1], reverse=True)\n",
    "\n",
    "    \n",
    "    # Get the top-n most similar movies (excluding the input movie itself)\n",
    "    #sim_scores[1:top_n+1] is used to slice the list from index 1 to top_n+1. This slicing operation excludes- \n",
    "    #-the first element, which represents the similarity score of the input movie itself.\n",
    "    #The list comprehension [i[0] for i in sim_scores[1:top_n+1]] extracts the first element (the movie index) from -\n",
    "    #-each tuple in the sliced list. This creates a list of movie indices representing the top-n most similar movies.\n",
    "    top_movies_indices = [i[0] for i in sim_scores[1:top_n+1]]\n",
    "\n",
    "    \n",
    "    # Return the top-n most similar movies\n",
    "    return df['title'].iloc[top_movies_indices]\n"
   ]
  },
  {
   "cell_type": "markdown",
   "id": "98a12f37",
   "metadata": {},
   "source": [
    "#Test the recommendation system\n",
    "#Let's test the recommendation system by providing a movie title and getting the top 5 similar movies."
   ]
  },
  {
   "cell_type": "code",
   "execution_count": 24,
   "id": "3711c767",
   "metadata": {},
   "outputs": [
    {
     "name": "stdout",
     "output_type": "stream",
     "text": [
      "9636    Jumanji: Welcome to the Jungle (2017)\n",
      "26                        Now and Then (1995)\n",
      "0                            Toy Story (1995)\n",
      "209                              Gordy (1995)\n",
      "1565                         Tall Tale (1995)\n",
      "Name: title, dtype: object\n"
     ]
    }
   ],
   "source": [
    "# Example usage\n",
    "movie_title = 'Jumanji (1995)'\n",
    "recommendations = get_recommendations(movie_title, cosine_sim, df)\n",
    "print(recommendations)\n"
   ]
  },
  {
   "cell_type": "code",
   "execution_count": 47,
   "id": "cc9e74cc",
   "metadata": {},
   "outputs": [
    {
     "name": "stdout",
     "output_type": "stream",
     "text": [
      "1    Adventure|Children|Fantasy\n",
      "Name: genres, dtype: object\n",
      "9636    Action|Adventure|Children\n",
      "Name: genres, dtype: object\n",
      "26    Children|Drama\n",
      "Name: genres, dtype: object\n",
      "0    Adventure|Animation|Children|Comedy|Fantasy\n",
      "Name: genres, dtype: object\n"
     ]
    }
   ],
   "source": [
    "print(df[df['title']=='Jumanji (1995)']['genres'])\n",
    "print(df[df['title']=='Jumanji: Welcome to the Jungle (2017)']['genres'])\n",
    "print(df[df['title']=='Now and Then (1995)']['genres'])\n",
    "print(df[df['title']=='Toy Story (1995)']['genres'])\n"
   ]
  },
  {
   "cell_type": "code",
   "execution_count": 28,
   "id": "436e094f",
   "metadata": {},
   "outputs": [
    {
     "name": "stdout",
     "output_type": "stream",
     "text": [
      "5996                Waiting... (2005)\n",
      "529                   Two Much (1995)\n",
      "1113       Waiting for Guffman (1996)\n",
      "7444    Waiting for 'Superman' (2010)\n",
      "26                Now and Then (1995)\n",
      "Name: title, dtype: object\n"
     ]
    }
   ],
   "source": [
    "# Example2 usage\n",
    "movie_title = 'Waiting to Exhale (1995)'\n",
    "recommendations = get_recommendations(movie_title, cosine_sim, df)\n",
    "print(recommendations)"
   ]
  },
  {
   "cell_type": "markdown",
   "id": "6e7b85a4",
   "metadata": {},
   "source": [
    "This code provides a implementation of content-based filtering for \n",
    "movie recommendations using the TF-IDF technique and cosine similarity."
   ]
  }
 ],
 "metadata": {
  "kernelspec": {
   "display_name": "Python 3 (ipykernel)",
   "language": "python",
   "name": "python3"
  },
  "language_info": {
   "codemirror_mode": {
    "name": "ipython",
    "version": 3
   },
   "file_extension": ".py",
   "mimetype": "text/x-python",
   "name": "python",
   "nbconvert_exporter": "python",
   "pygments_lexer": "ipython3",
   "version": "3.9.13"
  }
 },
 "nbformat": 4,
 "nbformat_minor": 5
}
