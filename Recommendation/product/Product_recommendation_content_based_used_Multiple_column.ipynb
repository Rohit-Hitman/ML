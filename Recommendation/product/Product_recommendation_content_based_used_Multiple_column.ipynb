{
 "cells": [
  {
   "cell_type": "code",
   "execution_count": 1,
   "id": "78aa0225",
   "metadata": {},
   "outputs": [],
   "source": [
    "import pandas as pd\n",
    "from sklearn.feature_extraction.text import TfidfVectorizer\n",
    "from sklearn.metrics.pairwise import cosine_similarity\n"
   ]
  },
  {
   "cell_type": "code",
   "execution_count": 3,
   "id": "53edf584",
   "metadata": {},
   "outputs": [
    {
     "data": {
      "text/html": [
       "<div>\n",
       "<style scoped>\n",
       "    .dataframe tbody tr th:only-of-type {\n",
       "        vertical-align: middle;\n",
       "    }\n",
       "\n",
       "    .dataframe tbody tr th {\n",
       "        vertical-align: top;\n",
       "    }\n",
       "\n",
       "    .dataframe thead th {\n",
       "        text-align: right;\n",
       "    }\n",
       "</style>\n",
       "<table border=\"1\" class=\"dataframe\">\n",
       "  <thead>\n",
       "    <tr style=\"text-align: right;\">\n",
       "      <th></th>\n",
       "      <th>index</th>\n",
       "      <th>product</th>\n",
       "      <th>category</th>\n",
       "      <th>sub_category</th>\n",
       "      <th>brand</th>\n",
       "      <th>sale_price</th>\n",
       "      <th>market_price</th>\n",
       "      <th>type</th>\n",
       "      <th>rating</th>\n",
       "      <th>description</th>\n",
       "    </tr>\n",
       "  </thead>\n",
       "  <tbody>\n",
       "    <tr>\n",
       "      <th>0</th>\n",
       "      <td>1</td>\n",
       "      <td>Garlic Oil - Vegetarian Capsule 500 mg</td>\n",
       "      <td>Beauty &amp; Hygiene</td>\n",
       "      <td>Hair Care</td>\n",
       "      <td>Sri Sri Ayurveda</td>\n",
       "      <td>220.0</td>\n",
       "      <td>220.0</td>\n",
       "      <td>Hair Oil &amp; Serum</td>\n",
       "      <td>4.1</td>\n",
       "      <td>This Product contains Garlic Oil that is known...</td>\n",
       "    </tr>\n",
       "    <tr>\n",
       "      <th>1</th>\n",
       "      <td>2</td>\n",
       "      <td>Water Bottle - Orange</td>\n",
       "      <td>Kitchen, Garden &amp; Pets</td>\n",
       "      <td>Storage &amp; Accessories</td>\n",
       "      <td>Mastercook</td>\n",
       "      <td>180.0</td>\n",
       "      <td>180.0</td>\n",
       "      <td>Water &amp; Fridge Bottles</td>\n",
       "      <td>2.3</td>\n",
       "      <td>Each product is microwave safe (without lid), ...</td>\n",
       "    </tr>\n",
       "    <tr>\n",
       "      <th>2</th>\n",
       "      <td>3</td>\n",
       "      <td>Brass Angle Deep - Plain, No.2</td>\n",
       "      <td>Cleaning &amp; Household</td>\n",
       "      <td>Pooja Needs</td>\n",
       "      <td>Trm</td>\n",
       "      <td>119.0</td>\n",
       "      <td>250.0</td>\n",
       "      <td>Lamp &amp; Lamp Oil</td>\n",
       "      <td>3.4</td>\n",
       "      <td>A perfect gift for all occasions, be it your m...</td>\n",
       "    </tr>\n",
       "    <tr>\n",
       "      <th>3</th>\n",
       "      <td>4</td>\n",
       "      <td>Cereal Flip Lid Container/Storage Jar - Assort...</td>\n",
       "      <td>Cleaning &amp; Household</td>\n",
       "      <td>Bins &amp; Bathroom Ware</td>\n",
       "      <td>Nakoda</td>\n",
       "      <td>149.0</td>\n",
       "      <td>176.0</td>\n",
       "      <td>Laundry, Storage Baskets</td>\n",
       "      <td>3.7</td>\n",
       "      <td>Multipurpose container with an attractive desi...</td>\n",
       "    </tr>\n",
       "    <tr>\n",
       "      <th>4</th>\n",
       "      <td>5</td>\n",
       "      <td>Creme Soft Soap - For Hands &amp; Body</td>\n",
       "      <td>Beauty &amp; Hygiene</td>\n",
       "      <td>Bath &amp; Hand Wash</td>\n",
       "      <td>Nivea</td>\n",
       "      <td>162.0</td>\n",
       "      <td>162.0</td>\n",
       "      <td>Bathing Bars &amp; Soaps</td>\n",
       "      <td>4.4</td>\n",
       "      <td>Nivea Creme Soft Soap gives your skin the best...</td>\n",
       "    </tr>\n",
       "  </tbody>\n",
       "</table>\n",
       "</div>"
      ],
      "text/plain": [
       "   index                                            product  \\\n",
       "0      1             Garlic Oil - Vegetarian Capsule 500 mg   \n",
       "1      2                              Water Bottle - Orange   \n",
       "2      3                     Brass Angle Deep - Plain, No.2   \n",
       "3      4  Cereal Flip Lid Container/Storage Jar - Assort...   \n",
       "4      5                 Creme Soft Soap - For Hands & Body   \n",
       "\n",
       "                 category           sub_category              brand  \\\n",
       "0        Beauty & Hygiene              Hair Care  Sri Sri Ayurveda    \n",
       "1  Kitchen, Garden & Pets  Storage & Accessories         Mastercook   \n",
       "2    Cleaning & Household            Pooja Needs                Trm   \n",
       "3    Cleaning & Household   Bins & Bathroom Ware             Nakoda   \n",
       "4        Beauty & Hygiene       Bath & Hand Wash              Nivea   \n",
       "\n",
       "   sale_price  market_price                      type  rating  \\\n",
       "0       220.0         220.0          Hair Oil & Serum     4.1   \n",
       "1       180.0         180.0    Water & Fridge Bottles     2.3   \n",
       "2       119.0         250.0           Lamp & Lamp Oil     3.4   \n",
       "3       149.0         176.0  Laundry, Storage Baskets     3.7   \n",
       "4       162.0         162.0      Bathing Bars & Soaps     4.4   \n",
       "\n",
       "                                         description  \n",
       "0  This Product contains Garlic Oil that is known...  \n",
       "1  Each product is microwave safe (without lid), ...  \n",
       "2  A perfect gift for all occasions, be it your m...  \n",
       "3  Multipurpose container with an attractive desi...  \n",
       "4  Nivea Creme Soft Soap gives your skin the best...  "
      ]
     },
     "execution_count": 3,
     "metadata": {},
     "output_type": "execute_result"
    }
   ],
   "source": [
    "# Load the product data\n",
    "product_data1 = pd.read_csv('product_data.csv')\n",
    "\n",
    "product_data1.head()\n"
   ]
  },
  {
   "cell_type": "code",
   "execution_count": 4,
   "id": "85bf6718",
   "metadata": {},
   "outputs": [
    {
     "data": {
      "text/plain": [
       "index           10000\n",
       "product         10000\n",
       "category        10000\n",
       "sub_category    10000\n",
       "brand            9999\n",
       "sale_price      10000\n",
       "market_price    10000\n",
       "type            10000\n",
       "rating           6843\n",
       "description      9958\n",
       "dtype: int64"
      ]
     },
     "execution_count": 4,
     "metadata": {},
     "output_type": "execute_result"
    }
   ],
   "source": [
    "product_data=product_data1[:10000]\n",
    "product_data.count()"
   ]
  },
  {
   "cell_type": "code",
   "execution_count": 5,
   "id": "01a1a337",
   "metadata": {},
   "outputs": [
    {
     "name": "stderr",
     "output_type": "stream",
     "text": [
      "C:\\Users\\rkj80\\AppData\\Local\\Temp\\ipykernel_1252\\1188690281.py:2: SettingWithCopyWarning: \n",
      "A value is trying to be set on a copy of a slice from a DataFrame.\n",
      "Try using .loc[row_indexer,col_indexer] = value instead\n",
      "\n",
      "See the caveats in the documentation: https://pandas.pydata.org/pandas-docs/stable/user_guide/indexing.html#returning-a-view-versus-a-copy\n",
      "  product_data['description'] = product_data['description'].str.lower()\n",
      "C:\\Users\\rkj80\\AppData\\Local\\Temp\\ipykernel_1252\\1188690281.py:3: FutureWarning: The default value of regex will change from True to False in a future version.\n",
      "  product_data['description'] = product_data['description'].str.replace('[^\\w\\s]', '')\n",
      "C:\\Users\\rkj80\\AppData\\Local\\Temp\\ipykernel_1252\\1188690281.py:3: SettingWithCopyWarning: \n",
      "A value is trying to be set on a copy of a slice from a DataFrame.\n",
      "Try using .loc[row_indexer,col_indexer] = value instead\n",
      "\n",
      "See the caveats in the documentation: https://pandas.pydata.org/pandas-docs/stable/user_guide/indexing.html#returning-a-view-versus-a-copy\n",
      "  product_data['description'] = product_data['description'].str.replace('[^\\w\\s]', '')\n",
      "C:\\Users\\rkj80\\AppData\\Local\\Temp\\ipykernel_1252\\1188690281.py:5: SettingWithCopyWarning: \n",
      "A value is trying to be set on a copy of a slice from a DataFrame.\n",
      "Try using .loc[row_indexer,col_indexer] = value instead\n",
      "\n",
      "See the caveats in the documentation: https://pandas.pydata.org/pandas-docs/stable/user_guide/indexing.html#returning-a-view-versus-a-copy\n",
      "  product_data['category'] = product_data['category'].str.lower()\n",
      "C:\\Users\\rkj80\\AppData\\Local\\Temp\\ipykernel_1252\\1188690281.py:6: FutureWarning: The default value of regex will change from True to False in a future version.\n",
      "  product_data['category'] = product_data['category'].str.replace('[^\\w\\s]', '')\n",
      "C:\\Users\\rkj80\\AppData\\Local\\Temp\\ipykernel_1252\\1188690281.py:6: SettingWithCopyWarning: \n",
      "A value is trying to be set on a copy of a slice from a DataFrame.\n",
      "Try using .loc[row_indexer,col_indexer] = value instead\n",
      "\n",
      "See the caveats in the documentation: https://pandas.pydata.org/pandas-docs/stable/user_guide/indexing.html#returning-a-view-versus-a-copy\n",
      "  product_data['category'] = product_data['category'].str.replace('[^\\w\\s]', '')\n",
      "C:\\Users\\rkj80\\AppData\\Local\\Temp\\ipykernel_1252\\1188690281.py:9: SettingWithCopyWarning: \n",
      "A value is trying to be set on a copy of a slice from a DataFrame\n",
      "\n",
      "See the caveats in the documentation: https://pandas.pydata.org/pandas-docs/stable/user_guide/indexing.html#returning-a-view-versus-a-copy\n",
      "  product_data['description'].fillna('', inplace=True)\n",
      "C:\\Users\\rkj80\\AppData\\Local\\Temp\\ipykernel_1252\\1188690281.py:10: SettingWithCopyWarning: \n",
      "A value is trying to be set on a copy of a slice from a DataFrame\n",
      "\n",
      "See the caveats in the documentation: https://pandas.pydata.org/pandas-docs/stable/user_guide/indexing.html#returning-a-view-versus-a-copy\n",
      "  product_data['category'].fillna('', inplace=True)\n"
     ]
    }
   ],
   "source": [
    "# Preprocess the data (e.g., lowercase, remove punctuation)\n",
    "product_data['description'] = product_data['description'].str.lower()\n",
    "product_data['description'] = product_data['description'].str.replace('[^\\w\\s]', '')\n",
    "\n",
    "product_data['category'] = product_data['category'].str.lower()\n",
    "product_data['category'] = product_data['category'].str.replace('[^\\w\\s]', '')\n",
    "\n",
    "# Handle missing values (if any)\n",
    "product_data['description'].fillna('', inplace=True)\n",
    "product_data['category'].fillna('', inplace=True)"
   ]
  },
  {
   "cell_type": "code",
   "execution_count": 6,
   "id": "46a29143",
   "metadata": {},
   "outputs": [
    {
     "name": "stderr",
     "output_type": "stream",
     "text": [
      "C:\\Users\\rkj80\\AppData\\Local\\Temp\\ipykernel_1252\\4056277551.py:2: SettingWithCopyWarning: \n",
      "A value is trying to be set on a copy of a slice from a DataFrame.\n",
      "Try using .loc[row_indexer,col_indexer] = value instead\n",
      "\n",
      "See the caveats in the documentation: https://pandas.pydata.org/pandas-docs/stable/user_guide/indexing.html#returning-a-view-versus-a-copy\n",
      "  product_data['content'] = product_data['description'] + ' ' + product_data['category']\n"
     ]
    }
   ],
   "source": [
    "# Concatenate the 'description' and 'category' columns, Here we have used two column to make recommendation\n",
    "product_data['content'] = product_data['description'] + ' ' + product_data['category']\n",
    "\n",
    "# Convert the concatenated content into TF-IDF feature vectors\n",
    "tfidf = TfidfVectorizer()\n",
    "feature_matrix = tfidf.fit_transform(product_data['content'])\n"
   ]
  },
  {
   "cell_type": "code",
   "execution_count": 7,
   "id": "ba4bec86",
   "metadata": {},
   "outputs": [],
   "source": [
    "# Compute the cosine similarity matrix\n",
    "similarity_matrix = cosine_similarity(feature_matrix, feature_matrix)\n"
   ]
  },
  {
   "cell_type": "code",
   "execution_count": 11,
   "id": "0baa0442",
   "metadata": {},
   "outputs": [],
   "source": [
    "def get_recommendations(product, top_n=5):\n",
    "    # Find the index of the target product\n",
    "    product_index = product_data[product_data['product'] == product].index[0]\n",
    "\n",
    "    # Get the similarity scores for the target product\n",
    "    similarity_scores = similarity_matrix[product_index]\n",
    "\n",
    "    # Sort the similarity scores and get the indices of top-n similar products\n",
    "    top_indices = similarity_scores.argsort()[:-top_n-1:-1]\n",
    "\n",
    "    # Get the product IDs of the top-n similar products\n",
    "    top_product_ids = product_data.iloc[top_indices]['product'].values\n",
    "\n",
    "    return top_product_ids\n",
    "\n",
    "\n",
    "\n"
   ]
  },
  {
   "cell_type": "code",
   "execution_count": 12,
   "id": "a4be64ef",
   "metadata": {},
   "outputs": [
    {
     "name": "stdout",
     "output_type": "stream",
     "text": [
      "['Water Bottle - Orange'\n",
      " 'Premium Rectangular Plastic Container With Lid - Multicolour'\n",
      " 'Premium Round Plastic Container With Lid - Yellow'\n",
      " 'Plastic Container - Square, Pink'\n",
      " 'Premium Square Plastic Container - Green']\n"
     ]
    }
   ],
   "source": [
    "# Example usage:\n",
    "product = 'Water Bottle - Orange'\n",
    "recommendations = get_recommendations(product)\n",
    "print(recommendations)"
   ]
  },
  {
   "cell_type": "code",
   "execution_count": 14,
   "id": "c0cbd4a9",
   "metadata": {},
   "outputs": [
    {
     "name": "stdout",
     "output_type": "stream",
     "text": [
      "                                         description              category  \\\n",
      "1  each product is microwave safe without lid ref...  kitchen garden  pets   \n",
      "\n",
      "                                             content  \n",
      "1  each product is microwave safe without lid ref...   \n",
      "\n",
      "\n",
      "                                            description              category\n",
      "6163  these containers are microwave safe without li...  kitchen garden  pets \n",
      "\n",
      "\n",
      "                                            description              category\n",
      "9546  these containers are microwave safe without li...  kitchen garden  pets \n",
      "\n",
      "\n",
      "                                            description              category\n",
      "8588  each product is microwave safe but without a l...  kitchen garden  pets \n",
      "\n",
      "\n",
      "                                           description              category\n",
      "125  these containers are microwave safe but withou...  kitchen garden  pets \n",
      "\n",
      "\n"
     ]
    }
   ],
   "source": [
    "#describtion\n",
    "print(product_data[product_data['product']=='Water Bottle - Orange'][['description','category','content']],'\\n\\n')\n",
    "print(product_data[product_data['product']=='Premium Rectangular Plastic Container With Lid - Multicolour'][['description','category']],'\\n\\n')\n",
    "print(product_data[product_data['product']=='Premium Round Plastic Container With Lid - Yellow'][['description','category']],'\\n\\n')\n",
    "print(product_data[product_data['product']=='Plastic Container - Square, Pink'][['description','category']],'\\n\\n')\n",
    "print(product_data[product_data['product']=='Premium Square Plastic Container - Green'][['description','category']],'\\n\\n')"
   ]
  },
  {
   "cell_type": "code",
   "execution_count": 16,
   "id": "cc156928",
   "metadata": {},
   "outputs": [
    {
     "name": "stdout",
     "output_type": "stream",
     "text": [
      "                                         description              category  \\\n",
      "1  each product is microwave safe without lid ref...  kitchen garden  pets   \n",
      "\n",
      "               category  \n",
      "1  kitchen garden  pets   \n",
      "\n",
      "\n"
     ]
    }
   ],
   "source": [
    "print(product_data[product_data['product']=='Water Bottle - Orange'][['description','category','category']],'\\n\\n')\n"
   ]
  }
 ],
 "metadata": {
  "kernelspec": {
   "display_name": "Python 3 (ipykernel)",
   "language": "python",
   "name": "python3"
  },
  "language_info": {
   "codemirror_mode": {
    "name": "ipython",
    "version": 3
   },
   "file_extension": ".py",
   "mimetype": "text/x-python",
   "name": "python",
   "nbconvert_exporter": "python",
   "pygments_lexer": "ipython3",
   "version": "3.9.13"
  }
 },
 "nbformat": 4,
 "nbformat_minor": 5
}
